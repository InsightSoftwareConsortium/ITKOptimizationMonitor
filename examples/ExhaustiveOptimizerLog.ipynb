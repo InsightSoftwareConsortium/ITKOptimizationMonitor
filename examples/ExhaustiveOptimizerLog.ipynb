{
 "cells": [
  {
   "cell_type": "markdown",
   "metadata": {},
   "source": [
    "# Exhaustive Optimizer Log Example\n",
    "\n",
    "When evaluating optimization performance it can be useful to observe the parametric surface of optimization results. The `ITKOptimizationMonitor` external module provides an event-based procedure through which data generated with an `itk.ExhaustiveOptimizer` may be preserved and referenced as an `itk.Image` object.\n",
    "\n",
    "This example adapts the [ITKSphinxExamples Exhaustive Optimizer sample notebook](https://itk.org/ITKExamples/src/Numerics/Optimizers/ExhaustiveOptimizer/PlotExhaustiveOptimizer.html) to demonstrate how the `itk.CommandExhaustiveLog` class may be employed for data collection and surface visualization. Two 2D images are registered with an `itk.Euler2DTransform` evaluated with an `itk.MeanSquaresImageToImageMetricv4` object. Results are visualized over the entire optimization region as a 3D image and then as a 2D image slice."
   ]
  },
  {
   "cell_type": "code",
   "execution_count": 1,
   "metadata": {},
   "outputs": [],
   "source": [
    "import os\n",
    "from urllib.request import urlretrieve\n",
    "\n",
    "import itk\n",
    "from itkwidgets import view"
   ]
  },
  {
   "cell_type": "markdown",
   "metadata": {},
   "source": [
    "### Get sample data"
   ]
  },
  {
   "cell_type": "code",
   "execution_count": 2,
   "metadata": {},
   "outputs": [],
   "source": [
    "os.makedirs('Input', exist_ok=True)"
   ]
  },
  {
   "cell_type": "code",
   "execution_count": 3,
   "metadata": {},
   "outputs": [],
   "source": [
    "fixed_img_path = 'Input/apple.jpg'\n",
    "moving_img_path = 'Input/orange.jpg'"
   ]
  },
  {
   "cell_type": "code",
   "execution_count": 4,
   "metadata": {},
   "outputs": [],
   "source": [
    "if not os.path.exists(fixed_img_path):\n",
    "    url = 'https://data.kitware.com/api/v1/file/5cad1aec8d777f072b181870/download'\n",
    "    urlretrieve(url, fixed_img_path)\n",
    "if not os.path.exists(moving_img_path):\n",
    "    url = 'https://data.kitware.com/api/v1/file/5cad1aed8d777f072b181879/download'\n",
    "    urlretrieve(url, moving_img_path)"
   ]
  },
  {
   "cell_type": "code",
   "execution_count": 5,
   "metadata": {},
   "outputs": [],
   "source": [
    "fixed_img = itk.imread(fixed_img_path, itk.F)\n",
    "moving_img = itk.imread(moving_img_path, itk.F)"
   ]
  },
  {
   "cell_type": "markdown",
   "metadata": {},
   "source": [
    "### Define Registration Parameters"
   ]
  },
  {
   "cell_type": "code",
   "execution_count": 6,
   "metadata": {},
   "outputs": [],
   "source": [
    "dimension = 2\n",
    "FixedImageType = itk.Image[itk.F, dimension]\n",
    "MovingImageType = itk.Image[itk.F, dimension]\n",
    "TransformType = itk.Euler2DTransform[itk.D]\n",
    "OptimizerType = itk.ExhaustiveOptimizerv4[itk.D]\n",
    "MetricType = itk.MeanSquaresImageToImageMetricv4[FixedImageType, MovingImageType]\n",
    "TransformInitializerType = \\\n",
    "    itk.CenteredTransformInitializer[itk.MatrixOffsetTransformBase[itk.D,2,2],\n",
    "                                     FixedImageType, MovingImageType]\n",
    "RegistrationType = itk.ImageRegistrationMethodv4[FixedImageType,MovingImageType]"
   ]
  },
  {
   "cell_type": "code",
   "execution_count": 7,
   "metadata": {},
   "outputs": [],
   "source": [
    "transform = TransformType.New()\n",
    "\n",
    "initializer = TransformInitializerType.New(\n",
    "    Transform=transform,\n",
    "    FixedImage=fixed_img,\n",
    "    MovingImage=moving_img,\n",
    ")\n",
    "initializer.InitializeTransform()"
   ]
  },
  {
   "cell_type": "code",
   "execution_count": 8,
   "metadata": {},
   "outputs": [],
   "source": [
    "metric_results = dict()\n",
    "\n",
    "metric = MetricType.New()\n",
    "optimizer = OptimizerType.New()\n",
    "\n",
    "optimizer.SetNumberOfSteps([10,10,1])\n",
    "\n",
    "scales = optimizer.GetScales()\n",
    "scales.SetSize(3)\n",
    "scales.SetElement(0, 0.1)\n",
    "scales.SetElement(1, 1.0)\n",
    "scales.SetElement(2, 1.0)\n",
    "optimizer.SetScales(scales)\n",
    "\n",
    "registration = RegistrationType.New(Metric=metric,\n",
    "    Optimizer=optimizer,\n",
    "    FixedImage=fixed_img,\n",
    "    MovingImage=moving_img,\n",
    "    InitialTransform=transform,\n",
    "    NumberOfLevels=1)"
   ]
  },
  {
   "cell_type": "markdown",
   "metadata": {},
   "source": [
    "### Add CommandExhaustiveLog Observer\n",
    "\n",
    "Note that available `itk.CommandExhaustiveLog` template wrappings are limited to wrapped ITK image types. In order to visualize optimization over a transform with greater than three parameters it may be necessary to build ITK locally from source with extra image wrappings."
   ]
  },
  {
   "cell_type": "code",
   "execution_count": 9,
   "metadata": {},
   "outputs": [
    {
     "data": {
      "text/plain": [
       "1"
      ]
     },
     "execution_count": 9,
     "metadata": {},
     "output_type": "execute_result"
    }
   ],
   "source": [
    "observer = itk.CommandExhaustiveLog[itk.F, transform.GetNumberOfParameters()].New()\n",
    "observer.SetCenter(transform.GetParameters())\n",
    "\n",
    "optimizer.AddObserver(itk.StartEvent(), observer)      # Initialize\n",
    "optimizer.AddObserver(itk.IterationEvent(), observer)  # Collect data"
   ]
  },
  {
   "cell_type": "markdown",
   "metadata": {},
   "source": [
    "### Run Registration\n",
    "\n",
    "Observer data is updated with each `itk.IterationEvent` fired by the optimizer."
   ]
  },
  {
   "cell_type": "code",
   "execution_count": 10,
   "metadata": {},
   "outputs": [
    {
     "name": "stdout",
     "output_type": "stream",
     "text": [
      "MinimumMetricValue: 8174.5320\tMaximumMetricValue: 13966.5686\n",
      "MinimumMetricValuePosition: [0.0, 0.0, 1.0]\tMaximumMetricValuePosition: [0.6000000000000001, 10.0, -1.0]\n",
      "StopConditionDescription: ExhaustiveOptimizerv4: Completed sampling of parametric space of size 3\t\n"
     ]
    }
   ],
   "source": [
    "registration.Update()\n",
    "\n",
    "print(f'MinimumMetricValue: {optimizer.GetMinimumMetricValue():.4f}\\t'\n",
    "      f'MaximumMetricValue: {optimizer.GetMaximumMetricValue():.4f}\\n'\n",
    "      f'MinimumMetricValuePosition: {list(optimizer.GetMinimumMetricValuePosition())}\\t'\n",
    "      f'MaximumMetricValuePosition: {list(optimizer.GetMaximumMetricValuePosition())}\\n'\n",
    "      f'StopConditionDescription: {optimizer.GetStopConditionDescription()}\\t')"
   ]
  },
  {
   "cell_type": "markdown",
   "metadata": {},
   "source": [
    "### Visualize 3D Parameter Space\n",
    "\n",
    "Metric values within the exhaustive transform region may be visualized directly with `itkwidgets` as a 3D `itk.Image` object."
   ]
  },
  {
   "cell_type": "code",
   "execution_count": 11,
   "metadata": {},
   "outputs": [
    {
     "data": {
      "application/vnd.jupyter.widget-view+json": {
       "model_id": "b8d9d1ce72af46d7a9e790261eb898be",
       "version_major": 2,
       "version_minor": 0
      },
      "text/plain": [
       "Viewer(geometries=[], gradient_opacity=0.22, point_sets=[], rendered_image=<itk.itkImagePython.itkImageF3; pro…"
      ]
     },
     "metadata": {},
     "output_type": "display_data"
    }
   ],
   "source": [
    "view(observer.GetDataImage())"
   ]
  },
  {
   "cell_type": "markdown",
   "metadata": {},
   "source": [
    "### Visualize 2D Data Slice \n",
    "Metric values may be visualized over a 2D slice of the 3D transform parameter domain using `itkwidgets`. In this case we will slice along the third transform dimension to visualize the surface containing the maximum metric value in the exhaustive domain.\n",
    "\n",
    "See [Process a 2D Slice of a 3D Image](https://itk.org/ITKExamples/src/Filtering/ImageGrid/ProcessA2DSliceOfA3DImage/Documentation.html) in the [ITKSphinxExamples](https://itk.org/ITKExamples/index.html) for image slicing procedures."
   ]
  },
  {
   "cell_type": "code",
   "execution_count": 12,
   "metadata": {},
   "outputs": [],
   "source": [
    "max_point = optimizer.GetMaximumMetricValuePosition()"
   ]
  },
  {
   "cell_type": "code",
   "execution_count": 13,
   "metadata": {},
   "outputs": [],
   "source": [
    "filter = itk.ExtractImageFilter[type(observer.GetDataImage()),itk.Image[itk.F,2]].New()\n",
    "filter.SetInput(observer.GetDataImage())\n",
    "filter.SetDirectionCollapseToSubmatrix()"
   ]
  },
  {
   "cell_type": "code",
   "execution_count": 14,
   "metadata": {},
   "outputs": [],
   "source": [
    "dest_region = observer.GetDataImage().GetBufferedRegion()\n",
    "size = dest_region.GetSize()\n",
    "index = dest_region.GetIndex()\n",
    "\n",
    "size[2] = 0    # Collapse along third dimension\n",
    "index[2] = observer.GetDataImage().TransformPhysicalPointToIndex(max_point)[2]\n",
    "\n",
    "dest_region.SetSize(size)\n",
    "dest_region.SetIndex(index)\n",
    "filter.SetExtractionRegion(dest_region)"
   ]
  },
  {
   "cell_type": "code",
   "execution_count": 15,
   "metadata": {},
   "outputs": [],
   "source": [
    "filter.Update()"
   ]
  },
  {
   "cell_type": "code",
   "execution_count": 16,
   "metadata": {},
   "outputs": [
    {
     "data": {
      "application/vnd.jupyter.widget-view+json": {
       "model_id": "c6f499225e78426a99fe1c59f0ee6c34",
       "version_major": 2,
       "version_minor": 0
      },
      "text/plain": [
       "Viewer(geometries=[], gradient_opacity=0.22, point_sets=[], rendered_image=<itk.itkImagePython.itkImageF2; pro…"
      ]
     },
     "metadata": {},
     "output_type": "display_data"
    }
   ],
   "source": [
    "view(filter.GetOutput())"
   ]
  }
 ],
 "metadata": {
  "kernelspec": {
   "display_name": "Python 3",
   "language": "python",
   "name": "python3"
  },
  "language_info": {
   "codemirror_mode": {
    "name": "ipython",
    "version": 3
   },
   "file_extension": ".py",
   "mimetype": "text/x-python",
   "name": "python",
   "nbconvert_exporter": "python",
   "pygments_lexer": "ipython3",
   "version": "3.8.5"
  }
 },
 "nbformat": 4,
 "nbformat_minor": 4
}
